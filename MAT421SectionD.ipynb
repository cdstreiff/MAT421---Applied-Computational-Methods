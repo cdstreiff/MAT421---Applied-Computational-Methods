{
  "nbformat": 4,
  "nbformat_minor": 0,
  "metadata": {
    "colab": {
      "name": "MAT421SectionD.ipynb",
      "provenance": [],
      "authorship_tag": "ABX9TyNn6T/HfVKiDosZbcPiIV8A",
      "include_colab_link": true
    },
    "kernelspec": {
      "name": "python3",
      "display_name": "Python 3"
    },
    "language_info": {
      "name": "python"
    }
  },
  "cells": [
    {
      "cell_type": "markdown",
      "metadata": {
        "id": "view-in-github",
        "colab_type": "text"
      },
      "source": [
        "<a href=\"https://colab.research.google.com/github/cdstreiff/MAT421---Applied-Computational-Methods/blob/main/MAT421SectionD.ipynb\" target=\"_parent\"><img src=\"https://colab.research.google.com/assets/colab-badge.svg\" alt=\"Open In Colab\"/></a>"
      ]
    },
    {
      "cell_type": "markdown",
      "source": [
        "\n",
        "# Section D HW - MAT421\n",
        "## Carson Streiff"
      ],
      "metadata": {
        "id": "TFHm_6bq0tMN"
      }
    },
    {
      "cell_type": "markdown",
      "source": [
        "As this section explores linear algebra concepts, I will try to create my own functions rather than using those built into numpy. I will however use some functions to make the basic matrix arithmetic easier."
      ],
      "metadata": {
        "id": "Z5PWNjok09ad"
      }
    },
    {
      "cell_type": "markdown",
      "source": [
        "### 1.2 Inner product function\n",
        "This function is used to compute the inner product of two vectors, a useful operation for later."
      ],
      "metadata": {
        "id": "-3bNuzW5AuVW"
      }
    },
    {
      "cell_type": "code",
      "source": [
        "import numpy as np\n",
        "\n",
        "def inner(a,b):\n",
        "\n",
        "  if len(a) != len(b):\n",
        "    raise Exception(\"Incompatible vector sizes for inner product.\")\n",
        "\n",
        "  sum = 0\n",
        "  for i in range(0,len(a)):\n",
        "    sum += a[i] * b[i]\n",
        "    \n",
        "  return sum\n",
        "\n",
        "inner([1,2],[3,4])"
      ],
      "metadata": {
        "colab": {
          "base_uri": "https://localhost:8080/"
        },
        "id": "gQoLGeXQA1Wf",
        "outputId": "c0ca3546-c682-4ac0-a5d2-43db5d4f1527"
      },
      "execution_count": null,
      "outputs": [
        {
          "output_type": "execute_result",
          "data": {
            "text/plain": [
              "11"
            ]
          },
          "metadata": {},
          "execution_count": 269
        }
      ]
    },
    {
      "cell_type": "markdown",
      "source": [
        "### 1.2 Norm calculation\n",
        "Taking the norm of a vector will also be useful."
      ],
      "metadata": {
        "id": "dt8qTZUsBiwb"
      }
    },
    {
      "cell_type": "code",
      "source": [
        "def norm(a):\n",
        "  sum = 0\n",
        "  for i in range(0,len(a)):\n",
        "    sum += a[i]**2\n",
        "  return np.sqrt(sum)\n",
        "\n",
        "norm([0,3,-4])"
      ],
      "metadata": {
        "colab": {
          "base_uri": "https://localhost:8080/"
        },
        "id": "ubRP9NERBnVJ",
        "outputId": "b88d85a8-d410-4f6f-c6c5-292f3ae28000"
      },
      "execution_count": null,
      "outputs": [
        {
          "output_type": "execute_result",
          "data": {
            "text/plain": [
              "5.0"
            ]
          },
          "metadata": {},
          "execution_count": 270
        }
      ]
    },
    {
      "cell_type": "markdown",
      "source": [
        "###1.2 Gram-Schmidt orthogonalization process\n",
        "This function gs implements the Gram-Schmidt algorithm, which when given a set of linearly independent, creates an orthonormal basis of the span (all linear combinations of) those vectors."
      ],
      "metadata": {
        "id": "MJAqCGCr4adO"
      }
    },
    {
      "cell_type": "code",
      "execution_count": null,
      "metadata": {
        "id": "2ftzNom94O8r",
        "colab": {
          "base_uri": "https://localhost:8080/"
        },
        "outputId": "070a68f9-3a8a-4508-f0ae-57f25b0ec4ab"
      },
      "outputs": [
        {
          "output_type": "stream",
          "name": "stdout",
          "text": [
            "[[ 0.70710678  0.40824829 -0.57735027]\n",
            " [ 0.70710678 -0.40824829  0.57735027]\n",
            " [ 0.          0.81649658  0.57735027]]\n"
          ]
        }
      ],
      "source": [
        "def gs(a):\n",
        "\n",
        "  u = np.zeros([len(a),len(a[0])])\n",
        "  \n",
        "  \n",
        "  #first term\n",
        "  u[0] = a[0] / norm(a[0])\n",
        "\n",
        "  for i in range(1,len(a)):\n",
        "    \n",
        "    #compute residual\n",
        "    e = a[i]\n",
        "    for j in range(i,0,-1):\n",
        "      e -= inner(a[i],u[j-1]) * u[j-1]\n",
        "    \n",
        "    u[i] = e / norm(e)\n",
        "\n",
        "\n",
        "  return u\n",
        "\n",
        "print(gs([[1,1,0],[1,0,1],[0,1,1]]).transpose())"
      ]
    },
    {
      "cell_type": "markdown",
      "source": [
        "### 1.3 QR decomposition\n",
        "This function decomposes a given matrix into the product of a of two matrices - the Gram-Schmidt computed orthonormal basis Q and a nonsingular upper-triangular matrix R.\n"
      ],
      "metadata": {
        "id": "AilGXuc56TJu"
      }
    },
    {
      "cell_type": "code",
      "source": [
        "def qr(a):\n",
        "  q = gs(a)\n",
        "  r = np.zeros([len(a),len(a)])\n",
        "  \n",
        "\n",
        "  for i in range(0,len(a),1):\n",
        "\n",
        "    for j in range(0,i+1,1):\n",
        "\n",
        "      r[i][j] = inner(a[i],q[j])\n",
        "\n",
        "  return([q,r])\n",
        "  \n",
        "\n",
        "result = qr([[1,1,1,1],[-1,4,4,-1],[4,-2,2,0]])\n",
        "\n",
        "print(\"Q:\")\n",
        "print(result[0].transpose())\n",
        "print(\"R:\")\n",
        "print(result[1].transpose())"
      ],
      "metadata": {
        "colab": {
          "base_uri": "https://localhost:8080/"
        },
        "id": "Cheq8yCtOt6Q",
        "outputId": "cd447452-4c90-4aba-ce90-0b9926b408f9"
      },
      "execution_count": null,
      "outputs": [
        {
          "output_type": "stream",
          "name": "stdout",
          "text": [
            "Q:\n",
            "[[ 0.5 -0.5  0.5]\n",
            " [ 0.5  0.5 -0.5]\n",
            " [ 0.5  0.5  0.5]\n",
            " [ 0.5 -0.5 -0.5]]\n",
            "R:\n",
            "[[ 2.  3.  2.]\n",
            " [ 0.  5. -2.]\n",
            " [ 0.  0.  4.]]\n"
          ]
        }
      ]
    },
    {
      "cell_type": "markdown",
      "source": [
        "### 1.3 Linear regression\n",
        "This function uses the previously defined QR decomposition method to solve for the least-squares solution to a given set of points, and plots the corresponding line of best fit to the data."
      ],
      "metadata": {
        "id": "uY7lnglR6Vc9"
      }
    },
    {
      "cell_type": "code",
      "source": [
        "import matplotlib.pyplot as plt\n",
        "\n",
        "def linreg(a,b):\n",
        "  [q,r] = qr(a)\n",
        "  \n",
        "  #using matrix arithmetic to solve Rx = Q'b\n",
        "  r_inv = np.linalg.inv(r.transpose())\n",
        "  q_trans = q\n",
        "\n",
        "  temp = np.matmul(r_inv,q_trans)\n",
        "  \n",
        "  return np.matmul(temp,b)\n",
        "\n",
        "#------Enter values here--------------------------------------------\n",
        "\n",
        "x_values = [1,25,50,75,100,115,120]\n",
        "y_values = [90,125,95,116,144,150,117]\n",
        "\n",
        "x_new = np.arange(0,130,0.1)\n",
        "\n",
        "#--------------------------------------------------------------------\n",
        "\n",
        "x_temp = []\n",
        "for i in range(0,len(x_values)):\n",
        "  x_temp.append([1,x_values[i]])\n",
        "\n",
        "A = np.array(x_temp)\n",
        "\n",
        "coef = linreg(A.transpose().tolist(),y_values)\n",
        "\n",
        "print(\"Function coefficients:\")\n",
        "print(coef)\n",
        "\n",
        "plt.plot(x_values,y_values,'ro')\n",
        "\n",
        "\n",
        "\n",
        "y_new = x_new*coef[1] + coef[0]\n",
        "\n",
        "plt.plot(x_new,y_new,'b')\n",
        "\n"
      ],
      "metadata": {
        "id": "W8Ykr1yY6X55",
        "colab": {
          "base_uri": "https://localhost:8080/",
          "height": 317
        },
        "outputId": "310eb35c-a7fb-4c7c-df7a-4d1ae78fe5d3"
      },
      "execution_count": null,
      "outputs": [
        {
          "output_type": "stream",
          "name": "stdout",
          "text": [
            "Function coefficients:\n",
            "[96.25245375  0.33587001]\n"
          ]
        },
        {
          "output_type": "execute_result",
          "data": {
            "text/plain": [
              "[<matplotlib.lines.Line2D at 0x7f39a0dedb10>]"
            ]
          },
          "metadata": {},
          "execution_count": 273
        },
        {
          "output_type": "display_data",
          "data": {
            "image/png": "[encoded data removed]",
            "text/plain": [
              "<Figure size 432x288 with 1 Axes>"
            ]
          },
          "metadata": {
            "needs_background": "light"
          }
        }
      ]
    }
  ]
}