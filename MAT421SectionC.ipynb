{
  "nbformat": 4,
  "nbformat_minor": 0,
  "metadata": {
    "colab": {
      "name": "MAT421SectionC.ipynb",
      "provenance": [],
      "collapsed_sections": [],
      "authorship_tag": "ABX9TyOiyj+Wn0CBDzpz23ro0ygg",
      "include_colab_link": true
    },
    "kernelspec": {
      "name": "python3",
      "display_name": "Python 3"
    },
    "language_info": {
      "name": "python"
    }
  },
  "cells": [
    {
      "cell_type": "markdown",
      "metadata": {
        "id": "view-in-github",
        "colab_type": "text"
      },
      "source": [
        "<a href=\"https://colab.research.google.com/github/cdstreiff/MAT421---Applied-Computational-Methods/blob/main/MAT421SectionC.ipynb\" target=\"_parent\"><img src=\"https://colab.research.google.com/assets/colab-badge.svg\" alt=\"Open In Colab\"/></a>"
      ]
    },
    {
      "cell_type": "markdown",
      "source": [
        "# Section C HW - MAT 421\n",
        "Carson Streiff - Spring 2022"
      ],
      "metadata": {
        "id": "SjredgnnxEGo"
      }
    },
    {
      "cell_type": "markdown",
      "source": [
        "## 1. Root finder - Newton-Raphson method\n",
        "This algorithm requires a guess, and an educated one at that in order to compute higher order roots without overflow. However, one strength of this program is that once given a reasonable enough guess, it can calculate the root to a very high accuracy. Here we compare the third root of five created by this function to the one calculated by numpy. The accuracy is impressive as we only gave it a starting guess of 1.6"
      ],
      "metadata": {
        "id": "GaEKkfSlul6h"
      }
    },
    {
      "cell_type": "code",
      "execution_count": null,
      "metadata": {
        "colab": {
          "base_uri": "https://localhost:8080/"
        },
        "id": "MWyOsOW9uiuw",
        "outputId": "34e35d68-fd84-4efc-f505-d7c620680fe1"
      },
      "outputs": [
        {
          "output_type": "stream",
          "name": "stdout",
          "text": [
            "Calculated root:        1.709975946676696\n",
            "Numpy calculated root:  1.7099759466766968\n"
          ]
        }
      ],
      "source": [
        "import numpy as np\n",
        "\n",
        "def newton_raphson(f, df, x0, tol):\n",
        "\n",
        "    if abs(f(x0)) < tol:\n",
        "        return x0\n",
        "    else:\n",
        "        return newton_raphson(f, df, x0 - f(x0)/df(x0), tol)\n",
        "\n",
        "#x and tol are strictly positive scalars, n is a positive integer strictly greater than 1\n",
        "def my_nth_root(x,n,tol):\n",
        "  f = lambda y: y**n - x\n",
        "  df = lambda y: n*y\n",
        "  x0 = 1.6\n",
        "\n",
        "  ans = newton_raphson(f,df,x0,tol)\n",
        "\n",
        "\n",
        "  return ans\n",
        "\n",
        "\n",
        "print(\"Calculated root:       \", my_nth_root(5,3,0.00000000000001))\n",
        "print(\"Numpy calculated root: \", np.power(5,1/3))\n"
      ]
    },
    {
      "cell_type": "markdown",
      "source": [
        "## 2. Bisection Method\n",
        "This code takes a function as an argument, as well as two points a and b (for which f(a) and f(b) do not have the same signs) and completes the bisection method to find roots until the error is less than the tolerance. The outputs are two lists, one of the estimated root of each step, as well as the error of each step."
      ],
      "metadata": {
        "id": "gmL-CPCY5t4S"
      }
    },
    {
      "cell_type": "code",
      "source": [
        "def my_bisection(f,a,b,tol):\n",
        "\n",
        "  #output arrays\n",
        "  R = []\n",
        "  E = []\n",
        "\n",
        "  #exception if the signs are the same\n",
        "  if np.sign(f(a)) == np.sign(f(b)):\n",
        "    raise Exception(\"Boo!\")\n",
        "  \n",
        "  m = (a + b) / 2\n",
        "  \n",
        "\n",
        "\n",
        "  if np.abs(f(m)) < tol:\n",
        "    #append final value to array\n",
        "    R.append(m)\n",
        "    E.append(np.abs(f(m)))\n",
        "    return [R,E]\n",
        "  elif np.sign(f(m)) == np.sign(f(a)):\n",
        "    R.append(m)\n",
        "    E.append(np.abs(f(m)))\n",
        "\n",
        "    temp = my_bisection(f,m,b,tol)\n",
        "    tempR = temp[0]\n",
        "    tempE = temp[1]\n",
        "\n",
        "\n",
        "    for i in range (0,len(tempR),1):\n",
        "      R.append(tempR[i])\n",
        "\n",
        "    for i in range (0,len(tempE),1):\n",
        "      E.append(tempE[i])\n",
        "\n",
        "    return [R,E]\n",
        "\n",
        "  elif np.sign(f(m)) == np.sign(f(b)):\n",
        "    R.append(m)\n",
        "    E.append(np.abs(f(m)))\n",
        "\n",
        "    temp = my_bisection(f,a,m,tol)\n",
        "    tempR = temp[0]\n",
        "    tempE = temp[1]\n",
        "\n",
        "\n",
        "    for i in range (0,len(tempR),1):\n",
        "      R.append(tempR[i])\n",
        "\n",
        "    for i in range (0,len(tempE),1):\n",
        "      E.append(tempE[i])\n",
        "\n",
        "    return [R,E]\n",
        "\n",
        "\n",
        "f = lambda x: np.sin(x) - np.cos(x)\n",
        "[R, E] = my_bisection(f, 0, 2, 1e-2)\n",
        "print(\"R = \", [R,E][0])\n",
        "print(\"E = \", [R,E][1])"
      ],
      "metadata": {
        "colab": {
          "base_uri": "https://localhost:8080/"
        },
        "id": "0-lOeQQqE-qo",
        "outputId": "223e18c7-28b9-46b9-ca12-48769dbf6ba1"
      },
      "execution_count": null,
      "outputs": [
        {
          "output_type": "stream",
          "name": "stdout",
          "text": [
            "R =  [1.0, 0.5, 0.75, 0.875, 0.8125, 0.78125]\n",
            "E =  [0.30116867893975674, 0.39815702328616975, 0.050050108850486774, 0.126546644072702, 0.038323093040207756, 0.005866372111545948]\n"
          ]
        }
      ]
    },
    {
      "cell_type": "markdown",
      "source": [
        "## 3. List of values from Newton-Raphson method\n",
        "This code takes a function as its argument, the derivative of that function, the required tolerance of our answer, and an initial guess. It prints out each guess the algorithm makes as well as the error at that particular guess."
      ],
      "metadata": {
        "id": "J6Isa40cipgu"
      }
    },
    {
      "cell_type": "code",
      "source": [
        "def my_newton(f,df,x0,tol):\n",
        "\n",
        "  R = []\n",
        "  E = []\n",
        "  \n",
        "  if np.abs(f(x0)) < tol:\n",
        "    R.append(x0)\n",
        "    E.append(abs(f(x0)))\n",
        "    return [R,E]\n",
        "  else:\n",
        "    R.append(x0)\n",
        "    E.append(abs(f(x0)))\n",
        "\n",
        "    temp = my_newton(f, df, x0 - f(x0)/df(x0), tol)\n",
        "    \n",
        "    tempR = temp[0]\n",
        "    tempE = temp[1]\n",
        "\n",
        "\n",
        "    for i in range (0,len(tempR),1):\n",
        "      R.append(tempR[i])\n",
        "\n",
        "    for i in range (0,len(tempE),1):\n",
        "      E.append(tempE[i])\n",
        "\n",
        "    return [R,E]\n",
        "\n",
        "f = lambda x: np.sin(x) - np.cos(x)\n",
        "df = lambda x: np.cos(x) + np.sin(x)\n",
        "[R, E] = my_newton(f, df, 1, 1e-5)\n",
        "\n",
        "\n",
        "\n",
        "print(\"R = \", [R,E][0])\n",
        "print(\"E = \", [R,E][1])"
      ],
      "metadata": {
        "colab": {
          "base_uri": "https://localhost:8080/"
        },
        "id": "zkZ_m9joioWe",
        "outputId": "7f809574-ecee-409a-9219-6f09c16ca2e7"
      },
      "execution_count": null,
      "outputs": [
        {
          "output_type": "stream",
          "name": "stdout",
          "text": [
            "R =  [1, 1.5, 1.25, 1.375, 1.4375]\n",
            "E =  [1, 0.25, 0.4375, 0.109375, 0.06640625]\n"
          ]
        }
      ]
    },
    {
      "cell_type": "markdown",
      "source": [
        "## 4. Pipe Builder\n",
        "![421shore.PNG](data:image/png;base64,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)\n",
        "\n",
        "This code calculates how far along the shore to build a junction between a land pipe and an ocean pipe given the relative distances from each other and the costs of each type of pipe. Using the pythagorean theorem, we can express the total cost of the project (as defined by the distance x denoted in the picture) as f(x) = (L - x) * C_land + C_ocean * (x^2 + H^2)^(1/2)\n",
        "\n",
        "Inspecting this function shows that it is parabolic, with a minimum above the x axis. In order to find this minimum using the bisection method, we simply analyze the derivative of the parabola and find where the derivative is equal to zero. The following code shows how this operation can be done using a simple bisection function."
      ],
      "metadata": {
        "id": "ZWqaRXDZr70-"
      }
    },
    {
      "cell_type": "code",
      "source": [
        "def bisection(f, a, b, tol): \n",
        "\n",
        "    if np.sign(f(a)) == np.sign(f(b)):\n",
        "        raise Exception(\n",
        "         \"Boo!\")\n",
        "        \n",
        "    m = (a + b)/2\n",
        "    \n",
        "    if np.abs(f(m)) < tol:\n",
        "        return m\n",
        "    elif np.sign(f(a)) == np.sign(f(m)):\n",
        "        return bisection(f, m, b, tol)\n",
        "    elif np.sign(f(b)) == np.sign(f(m)):\n",
        "        return bisection(f, a, m, tol)\n",
        "\n",
        "\n",
        "def my_pipe_builder(C_ocean,C_land,L,H):\n",
        "\n",
        "  #define the derivative function we will find the roots for\n",
        "  df = lambda x: -C_land + C_ocean * ( (x) / np.sqrt(x**2 + H**2) )\n",
        "\n",
        "  return bisection(df,0,L,1e-6)\n",
        "\n",
        "C_ocean = 30\n",
        "C_land = 10\n",
        "L = 100\n",
        "H = 50\n",
        "\n",
        "\n",
        "print(\"Build pipe at x =\" , my_pipe_builder(C_ocean, C_land, L, H))"
      ],
      "metadata": {
        "colab": {
          "base_uri": "https://localhost:8080/"
        },
        "id": "6jmGZfV5r8VP",
        "outputId": "8a16580d-eb45-4f7d-bccd-09fe88658119"
      },
      "execution_count": null,
      "outputs": [
        {
          "output_type": "stream",
          "name": "stdout",
          "text": [
            "Build pipe at x = 17.67767071723938\n"
          ]
        }
      ]
    }
  ]
}