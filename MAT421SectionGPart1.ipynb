{
  "nbformat": 4,
  "nbformat_minor": 0,
  "metadata": {
    "colab": {
      "name": "MAT421SectionGPart1.ipynb",
      "provenance": [],
      "authorship_tag": "ABX9TyO9LOupybpQdKV5iEKyPX8l",
      "include_colab_link": true
    },
    "kernelspec": {
      "name": "python3",
      "display_name": "Python 3"
    },
    "language_info": {
      "name": "python"
    }
  },
  "cells": [
    {
      "cell_type": "markdown",
      "metadata": {
        "id": "view-in-github",
        "colab_type": "text"
      },
      "source": [
        "<a href=\"https://colab.research.google.com/github/cdstreiff/MAT421---Applied-Computational-Methods/blob/main/MAT421SectionGPart1.ipynb\" target=\"_parent\"><img src=\"https://colab.research.google.com/assets/colab-badge.svg\" alt=\"Open In Colab\"/></a>"
      ]
    },
    {
      "cell_type": "markdown",
      "source": [
        "# Section G HW - MAT 421\n",
        "## Part 1\n",
        "Carson Streiff"
      ],
      "metadata": {
        "id": "SDN4fJJjVY2c"
      }
    },
    {
      "cell_type": "markdown",
      "source": [
        "### Reimann, Trapezoidal, and Simpson integration\n",
        "This function my_num_calc solves numerically for the integral of a supplied function over given bounds, in one of the three methods supplied by a user-inputted option."
      ],
      "metadata": {
        "id": "pMhvfKFfK59a"
      }
    },
    {
      "cell_type": "code",
      "execution_count": 87,
      "metadata": {
        "colab": {
          "base_uri": "https://localhost:8080/"
        },
        "id": "EwVt4pcxPu-i",
        "outputId": "c806386a-ec3a-4d60-de09-5f92b99fe721"
      },
      "outputs": [
        {
          "output_type": "execute_result",
          "data": {
            "text/plain": [
              "2.0000526243411856"
            ]
          },
          "metadata": {},
          "execution_count": 87
        }
      ],
      "source": [
        "import numpy as np\n",
        "\n",
        "def my_num_calc(f,a,b,n,option):\n",
        "\n",
        "  #establish width of our segments\n",
        "  h = (b - a) / (n-1)\n",
        "\n",
        "  #rectangular option\n",
        "  if(option == 'rect'):\n",
        "    x = np.linspace(a,b,n)\n",
        "    y = f(x)\n",
        "    reimannInt = h * sum(y[1::])\n",
        "    return reimannInt\n",
        "\n",
        "  #trapezoidal option\n",
        "  if(option == 'trap'):\n",
        "    x = np.linspace(a,b,n)\n",
        "    y = f(x)\n",
        "    trapInt = (h/2)*(y[0] + 2*sum(y[1:n-1]) + y[n-1])\n",
        "    return trapInt\n",
        "\n",
        "  #simpson's option\n",
        "  if(option == 'simp'):\n",
        "    x = np.linspace(a,b,n)\n",
        "    y = f(x)\n",
        "    simpInt = (h/3) * (y[0] + 2*sum(y[:n-2:2]) + 4*sum(y[1:n-1:2]) + y[n-1])\n",
        "    return simpInt\n",
        "\n",
        "  raise Exception(\"invalid option\")\n",
        "\n",
        "\n",
        "f = lambda x: np.sin(x)\n",
        "a = 0\n",
        "b = np.pi\n",
        "n = 13\n",
        "option = 'simp'\n",
        "\n",
        "my_num_calc(f,a,b,n,option)\n",
        "\n"
      ]
    },
    {
      "cell_type": "markdown",
      "source": [
        "### Testing the numerical integration\n"
      ],
      "metadata": {
        "id": "QEuL0cGYMmRb"
      }
    },
    {
      "cell_type": "code",
      "source": [
        "print(\"Same problem in each option:\")\n",
        "print(\"integral of exp(x)sin(x) from -1 to 2, 21 points included\")\n",
        "f = lambda x: np.exp(x) * np.sin(x)\n",
        "rect = my_num_calc(f,-1,2,21,'rect')\n",
        "trap = my_num_calc(f,-1,2,21,'trap')\n",
        "simp = my_num_calc(f,-1,2,21,'simp')\n",
        "\n",
        "print(\"rectangular result: \" + str(rect))\n",
        "print(\"trapezoidal result: \" + str(trap))\n",
        "print(\"simpson result: \" + str(simp))\n",
        "print(\"\")\n",
        "\n",
        "print(\"Increasing accuracy: \")\n",
        "print(\"integral of abs(sin(x)) using trapezoidal \\n integration from 0 to 2pi, should equal 4\")\n",
        "f = lambda x: abs(np.sin(x))\n",
        "trap4 = my_num_calc(f,0,2*np.pi,4,'trap')\n",
        "trap8 = my_num_calc(f,0,2*np.pi,8,'trap')\n",
        "trap12 = my_num_calc(f,0,2*np.pi,12,'trap')\n",
        "trap24 = my_num_calc(f,0,2*np.pi,24,'trap')\n",
        "print(\"Evaluated with 4 points: \" + str(trap4))\n",
        "print(\"Evaluated with 8 points: \" + str(trap8))\n",
        "print(\"Evaluated with 12 points: \" + str(trap12))\n",
        "print(\"Evaluated with 24 points: \" + str(trap24))"
      ],
      "metadata": {
        "colab": {
          "base_uri": "https://localhost:8080/"
        },
        "id": "k1GlWUAvMt44",
        "outputId": "2c890818-257b-4747-fae5-ede409329310"
      },
      "execution_count": 105,
      "outputs": [
        {
          "output_type": "stream",
          "name": "stdout",
          "text": [
            "Same problem in each option:\n",
            "integral of exp(x)sin(x) from -1 to 2, 21 points included\n",
            "rectangular result: 5.685239285070813\n",
            "trapezoidal result: 5.1581085670897115\n",
            "simpson result: 5.1200401797192825\n",
            "\n",
            "Increasing accuracy: \n",
            "integral of abs(sin(x)) using trapezoidal \n",
            " integration from 0 to 2pi, should equal 4\n",
            "Evaluated with 4 points: 3.6275987284684357\n",
            "Evaluated with 8 points: 3.9326333575317842\n",
            "Evaluated with 12 points: 3.972773973163315\n",
            "Evaluated with 24 points: 3.9937790329335323\n"
          ]
        }
      ]
    },
    {
      "cell_type": "markdown",
      "source": [
        "### Expanded Simpson's Method\n",
        "This simpson's method uses four points instead of three when fitting a Lagrange curve. This is called Simpson's 3/8 rule, info taken from https://en.wikipedia.org/wiki/Simpson%27s_rule#Simpson's_3/8_rule \n",
        "\n",
        "![simpson.PNG](data:image/png;base64,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)\n",
        "Here is the simplified formula for this technique. It is only valid for functions of data sets split into 4 + 3n points, n being a natural number. Below we test the integral from 0 to 2pi of abs(sin(x)) which should give us 4, and we do this using 31 points (which satisfies both Simpson methods). As we can see, this expanded method can be more accurate than the original method."
      ],
      "metadata": {
        "id": "n5hhtGVQQxLf"
      }
    },
    {
      "cell_type": "code",
      "source": [
        "def simpson(f,a,b,n):\n",
        "\n",
        "  #initial quantities\n",
        "  h = (b - a) / (n-1)\n",
        "  x = np.linspace(a,b,n)\n",
        "  y = f(x)\n",
        "\n",
        "  sum = 0\n",
        "\n",
        "  \n",
        "  #since we use four points, we calculate every three points\n",
        "  for i in range(0,n-3,3):\n",
        "    \n",
        "\n",
        "    a1 = i\n",
        "    b1 = i + 3\n",
        "\n",
        "    \n",
        "\n",
        "    point1 = int((2*a1 + b1) / 3)\n",
        "    point2 = int((a1 + 2*b1) / 3)\n",
        "    \n",
        "\n",
        "\n",
        "    sum += (3*h / 8) * (y[a1] + 3*y[point1] + 3*y[point2] + y[b1])\n",
        "\n",
        "\n",
        "  return sum\n",
        "    \n",
        "\n",
        "\n",
        "f = lambda x: abs(np.sin(x))\n",
        "a = 0\n",
        "b = np.pi * 2\n",
        "n = 31\n",
        "#result should be 4\n",
        "print(\"Simpson's 3/8 rule output: \")\n",
        "print(simpson(f,a,b,n))\n",
        "print(\"Regular Simpson's rule output: \")\n",
        "print(my_num_calc(f,a,b,31,'simp'))"
      ],
      "metadata": {
        "colab": {
          "base_uri": "https://localhost:8080/"
        },
        "id": "tePwAWyk6iVO",
        "outputId": "3e44effe-985c-4917-8258-416e81ce6001"
      },
      "execution_count": 163,
      "outputs": [
        {
          "output_type": "stream",
          "name": "stdout",
          "text": [
            "Simpson's 3/8 rule output: \n",
            "4.000097221421029\n",
            "Regular Simpson's rule output: \n",
            "3.985367663061538\n"
          ]
        }
      ]
    }
  ]
}