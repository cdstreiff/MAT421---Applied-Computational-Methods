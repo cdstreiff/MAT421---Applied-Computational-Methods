{
  "nbformat": 4,
  "nbformat_minor": 0,
  "metadata": {
    "colab": {
      "name": "MAT421SectionBPart2.ipynb",
      "provenance": [],
      "collapsed_sections": [],
      "authorship_tag": "ABX9TyMKtHe5OYaMc1shuGTni/99",
      "include_colab_link": true
    },
    "kernelspec": {
      "name": "python3",
      "display_name": "Python 3"
    },
    "language_info": {
      "name": "python"
    }
  },
  "cells": [
    {
      "cell_type": "markdown",
      "metadata": {
        "id": "view-in-github",
        "colab_type": "text"
      },
      "source": [
        "<a href=\"https://colab.research.google.com/github/cdstreiff/MAT421---Applied-Computational-Methods/blob/main/MAT421SectionBPart2.ipynb\" target=\"_parent\"><img src=\"https://colab.research.google.com/assets/colab-badge.svg\" alt=\"Open In Colab\"/></a>"
      ]
    },
    {
      "cell_type": "markdown",
      "source": [
        "\n",
        "# Section B HW - MAT421\n",
        "## Part 2\n",
        "Carson Streiff"
      ],
      "metadata": {
        "id": "jpb0IZXB7bT7"
      }
    },
    {
      "cell_type": "markdown",
      "source": [
        "## Quintic Spline\n",
        "The following program computes the quintic spline interpolation of supplied points using experimental points supplied by the user. Testing of the program is below."
      ],
      "metadata": {
        "id": "_qt8JOYT6dRH"
      }
    },
    {
      "cell_type": "code",
      "source": [
        "import numpy as np\n",
        "\n",
        "def quintic(x,y,X):\n",
        "  n = len(x)\n",
        "  A = np.zeros([(n-1)*6,(n-1)*6])\n",
        "  b = np.zeros([(n-1)*6])\n",
        "  rowcount = 0\n",
        "\n",
        "  #first condition\n",
        "  A1 = np.zeros([(n-1), 6*(n-1)])\n",
        "\n",
        "  offset = 0\n",
        "  for i in range(0,n-1,1):\n",
        "    power = 5\n",
        "    for j in range(0,6,1):\n",
        "      A1[i,j+offset] = x[i]**power\n",
        "      power -= 1\n",
        "    offset += 6\n",
        "    b[rowcount] = y[i]\n",
        "    rowcount += 1\n",
        "    \n",
        "  # print(A1)\n",
        "  # print(b)\n",
        "\n",
        "  #second condition\n",
        "  A2 = np.zeros([(n-1), 6*(n-1)])\n",
        "\n",
        "  offset = 0\n",
        "  for i in range(0,n-1,1):\n",
        "    power = 5\n",
        "    for j in range(0,6,1):\n",
        "      A2[i,j+offset] = x[i+1]**power\n",
        "      power -= 1\n",
        "    offset += 6\n",
        "    b[rowcount] = y[i+1]\n",
        "    rowcount += 1\n",
        "\n",
        "  #third condition - first derivative\n",
        "\n",
        "  A3 = np.zeros([(n-2), 6*(n-1)])\n",
        "  for i in range(0,n-2,1):\n",
        "    \n",
        "\n",
        "      A3[i,0+6*i] = 5 * (x[i+1]**4)\n",
        "      A3[i,1+6*i] = 4 * (x[i+1]**3)\n",
        "      A3[i,2+6*i] = 3 * (x[i+1]**2)\n",
        "      A3[i,3+6*i] = 2 * (x[i+1])\n",
        "      A3[i,4+6*i] = 1\n",
        "      A3[i,5+6*i] = 0\n",
        "\n",
        "      A3[i,6+6*i] = -5 * (x[i+1]**4)\n",
        "      A3[i,7+6*i] = -4 * (x[i+1]**3)\n",
        "      A3[i,8+6*i] = -3 * (x[i+1]**2)\n",
        "      A3[i,9+6*i] = -2 * (x[i+1])\n",
        "      A3[i,10+6*i] = -1\n",
        "      A3[i,11+6*i] = 0\n",
        "      b[rowcount] = 0\n",
        "      rowcount += 1\n",
        "\n",
        "  #fourth condition - second derivative\n",
        "\n",
        "  A4 = np.zeros([(n-2), 6*(n-1)])\n",
        "  for i in range(0,n-2,1):\n",
        "    \n",
        "\n",
        "      A4[i,0+6*i] = 20 * (x[i+1]**3)\n",
        "      A4[i,1+6*i] = 12 * (x[i+1]**2)\n",
        "      A4[i,2+6*i] = 6 * (x[i+1])\n",
        "      A4[i,3+6*i] = 2\n",
        "      A4[i,4+6*i] = 0\n",
        "      A4[i,5+6*i] = 0\n",
        "\n",
        "      A4[i,6+6*i] = -20 * (x[i+1]**3)\n",
        "      A4[i,7+6*i] = -12 * (x[i+1]**2)\n",
        "      A4[i,8+6*i] = -6 * (x[i+1])\n",
        "      A4[i,9+6*i] = -2\n",
        "      A4[i,10+6*i] = 0\n",
        "      A4[i,11+6*i] = 0\n",
        "      b[rowcount] = 0\n",
        "      rowcount += 1\n",
        "\n",
        "  #fifth condition - third derivative\n",
        "\n",
        "  A5 = np.zeros([(n-2), 6*(n-1)])\n",
        "  for i in range(0,n-2,1):\n",
        "    \n",
        "\n",
        "      A5[i,0+6*i] = 60 * (x[i+1]**2)\n",
        "      A5[i,1+6*i] = 24 * (x[i+1])\n",
        "      A5[i,2+6*i] = 6\n",
        "      A5[i,3+6*i] = 0\n",
        "      A5[i,4+6*i] = 0\n",
        "      A5[i,5+6*i] = 0\n",
        "\n",
        "      A5[i,6+6*i] = -60 * (x[i+1]**2)\n",
        "      A5[i,7+6*i] = -24 * (x[i+1])\n",
        "      A5[i,8+6*i] = -6\n",
        "      A5[i,9+6*i] = 0\n",
        "      A5[i,10+6*i] = 0\n",
        "      A5[i,11+6*i] = 0\n",
        "      b[rowcount] = 0\n",
        "      rowcount += 1\n",
        "\n",
        "  #sixth condition - fourth derivative\n",
        "\n",
        "  A6 = np.zeros([(n-2), 6*(n-1)])\n",
        "  for i in range(0,n-2,1):\n",
        "    \n",
        "\n",
        "      A6[i,0+6*i] = 120 * (x[i+1])\n",
        "      A6[i,1+6*i] = 24\n",
        "      A6[i,2+6*i] = 0\n",
        "      A6[i,3+6*i] = 0\n",
        "      A6[i,4+6*i] = 0\n",
        "      A6[i,5+6*i] = 0\n",
        "\n",
        "      A6[i,6+6*i] = -120 * (x[i+1])\n",
        "      A6[i,7+6*i] = -24\n",
        "      A6[i,8+6*i] = 0\n",
        "      A6[i,9+6*i] = 0\n",
        "      A6[i,10+6*i] = 0\n",
        "      A6[i,11+6*i] = 0\n",
        "      b[rowcount] = 0\n",
        "      rowcount += 1\n",
        "\n",
        "  #first derivative endpoint constraint\n",
        "  A7 = np.zeros([2,6*(n-1)])\n",
        "  A7[0,0] = 5 * (x[0]**4)\n",
        "  A7[0,1] = 4 * (x[0]**3)\n",
        "  A7[0,2] = 3 * (x[0]**2)\n",
        "  A7[0,3] = 2 * (x[0])\n",
        "  A7[0,4] = 1\n",
        "  b[rowcount] = 0\n",
        "  rowcount += 1\n",
        "\n",
        "  A7[1,6*(n-2)] = 5 * (x[n-1]**4)\n",
        "  A7[1,6*(n-2) + 1] = 4 * (x[n-1]**3)\n",
        "  A7[1,6*(n-2) + 2] = 3 * (x[n-1]**2)\n",
        "  A7[1,6*(n-2) + 3] = 2 * (x[n-1])\n",
        "  A7[1,6*(n-2) + 4] = 1\n",
        "  b[rowcount] = 0\n",
        "  rowcount += 1\n",
        "\n",
        "  #second derivative endpoint constraint\n",
        "  A8 = np.zeros([2,6*(n-1)])\n",
        "  A8[0,0] = 20 * (x[0]**3)\n",
        "  A8[0,1] = 12 * (x[0]**2)\n",
        "  A8[0,2] = 6 * (x[0])\n",
        "  A8[0,3] = 2\n",
        "  A8[0,4] = 0\n",
        "  b[rowcount] = 0\n",
        "  rowcount += 1\n",
        "\n",
        "  A8[1,6*(n-2)] = 20 * (x[n-1]**3)\n",
        "  A8[1,6*(n-2) + 1] = 12 * (x[n-1]**2)\n",
        "  A8[1,6*(n-2) + 2] = 6 * (x[n-1])\n",
        "  A8[1,6*(n-2) + 3] = 2\n",
        "  A8[1,6*(n-2) + 4] = 0\n",
        "  b[rowcount] = 0\n",
        "  rowcount += 1\n",
        "\n",
        "\n",
        "  # print(\"A1:\")\n",
        "  # print(A1)\n",
        "  # print(\"A2:\")\n",
        "  # print(A2)\n",
        "  # print(\"A3:\")\n",
        "  # print(A3)\n",
        "  # print(\"A4:\")\n",
        "  # print(A4)\n",
        "  # print(\"A5:\")\n",
        "  # print(A5)\n",
        "  # print(\"A6:\")\n",
        "  # print(A6)\n",
        "  # print(\"A7:\")\n",
        "  # print(A7)\n",
        "  # print(\"A8:\")\n",
        "  # print(A8)\n",
        "  # print(\"b:\")\n",
        "  # print(b)\n",
        "\n",
        "  #initialize final matrix representing the system of equations\n",
        "\n",
        "  dim = (len(b),len(b))\n",
        "  A = np.zeros(dim)\n",
        "\n",
        "  #concatenating all the result matrices together\n",
        "  row = 0\n",
        "  for i in range(0,len(A1),1):\n",
        "    A[i,:] = A1[i,:]\n",
        "    row += 1\n",
        "  offset = row\n",
        "  for i in range(0,len(A2),1):\n",
        "    A[i+offset,:] = A2[i,:]\n",
        "    row += 1\n",
        "  offset = row\n",
        "  for i in range(0,len(A3),1):\n",
        "    A[i+offset,:] = A3[i,:]\n",
        "    row += 1\n",
        "  offset = row\n",
        "  for i in range(0,len(A4),1):\n",
        "    A[i+offset,:] = A4[i,:]\n",
        "    row += 1\n",
        "  offset = row\n",
        "  for i in range(0,len(A5),1):\n",
        "    A[i+offset,:] = A5[i,:]\n",
        "    row += 1\n",
        "  offset = row\n",
        "  for i in range(0,len(A6),1):\n",
        "    A[i+offset,:] = A6[i,:]\n",
        "    row += 1\n",
        "  offset = row\n",
        "  for i in range(0,len(A7),1):\n",
        "    A[i+offset,:] = A7[i,:]\n",
        "    row += 1\n",
        "  offset = row\n",
        "  for i in range(0,len(A8),1):\n",
        "    A[i+offset,:] = A8[i,:]\n",
        "    row += 1\n",
        "  # print(\"A:\")\n",
        "  # print(A)\n",
        "\n",
        "    #solving the system of equatons using the numPy built in functions to get coefficients of our cubic equations\n",
        "\n",
        "  coef = np.dot(np.linalg.inv(A), b)\n",
        "  # print(\"Coefficients: \")\n",
        "  # print(coef)\n",
        "\n",
        "\n",
        "\n",
        "  #evaluating at the given points\n",
        "  Y = [0] * len(X)\n",
        "  for i in range(0,len(X),1):\n",
        "    j = 0\n",
        "    while x[j] < X[i]:\n",
        "      j += 1\n",
        "    index = j-1\n",
        "    \n",
        "    term1 = coef[6*index]\n",
        "    term2 = coef[6*index + 1]\n",
        "    term3 = coef[6*index + 2]\n",
        "    term4 = coef[6*index + 3]\n",
        "    term5 = coef[6*index + 4]\n",
        "    term6 = coef[6*index + 5]\n",
        "\n",
        "    \n",
        "    Y[i] = term1 * (X[i] ** 5) + term2 * (X[i]**4) + term3 * (X[i]**3) + term4 * (X[i]**2) + term5 * (X[i]) + term6\n",
        "\n",
        "  # print(\"Interpolation:\")\n",
        "  return Y\n",
        "\n",
        "quintic([1,2,3],[1,3,2],[0.2,0.5,1.5,2.4,2.9])\n"
      ],
      "metadata": {
        "colab": {
          "base_uri": "https://localhost:8080/"
        },
        "id": "CTjB0xdNcGBg",
        "outputId": "c038a4c4-6243-4c0e-e76e-02b2c513fc63"
      },
      "execution_count": 2,
      "outputs": [
        {
          "output_type": "execute_result",
          "data": {
            "text/plain": [
              "[139.5292800000059,\n",
              " 59.373046875002586,\n",
              " 1.6972656249996803,\n",
              " 2.687959999999066,\n",
              " 2.007631874998424]"
            ]
          },
          "metadata": {},
          "execution_count": 2
        }
      ]
    },
    {
      "cell_type": "markdown",
      "source": [
        "## Testing the quintic spline\n",
        "This program takes experimental x and y values, then interpolates given x values using the quintic spline program from above. It also marks the experimental points in red."
      ],
      "metadata": {
        "id": "VduYA4BF671-"
      }
    },
    {
      "cell_type": "code",
      "source": [
        "import matplotlib.pyplot as plt\n",
        "\n",
        "# x = [1,2,3,4,5,6,7,8,9,10]\n",
        "# y = [20,100,3,50,30,4,12,66,89,100]\n",
        "# x_new = np.arange(1.1,10,0.1)\n",
        "\n",
        "x = [0,1,2,5,8,10,11]\n",
        "y = [1,3,2,15,-4,-2,4]\n",
        "x_new = np.arange(0.1,11,0.1)\n",
        "\n",
        "\n",
        "y_new = quintic(x,y,x_new)\n",
        "\n",
        "plt.plot(x_new,y_new,'b')\n",
        "plt.plot(x,y,'ro')\n",
        "plt.grid()"
      ],
      "metadata": {
        "colab": {
          "base_uri": "https://localhost:8080/",
          "height": 265
        },
        "id": "9jfGkSml5fdY",
        "outputId": "71d85834-b216-4808-ac90-6a9a2f2e330a"
      },
      "execution_count": 5,
      "outputs": [
        {
          "output_type": "display_data",
          "data": {
            "image/png": "[encoded data removed]",
            "text/plain": [
              "<Figure size 432x288 with 1 Axes>"
            ]
          },
          "metadata": {
            "needs_background": "light"
          }
        }
      ]
    },
    {
      "cell_type": "markdown",
      "source": [
        "## Problem 3: Lagrange Interpolation\n",
        "This program takes a set of x-values, along with some experimental coordinates, and finds the corresponding y-values calculated using Lagrange interpolation. The code works for any amount of points."
      ],
      "metadata": {
        "id": "SEHg-WZ3buZ8"
      }
    },
    {
      "cell_type": "code",
      "source": [
        "def my_lagrange(x,y,X):\n",
        "  values = [0] * len(X)\n",
        "  #for each value in the X list\n",
        "  for i in range(0,len(X),1):\n",
        "\n",
        "    #this sum represents the final lagrange polynomial\n",
        "    sum = 0\n",
        "\n",
        "\n",
        "\n",
        "    #which basis polynomial we're on\n",
        "    for j in range(0,len(x),1):\n",
        "      \n",
        "\n",
        "      product = 1\n",
        "      #evaluate terms in that basis polynomial\n",
        "      for g in range(0,len(x),1):\n",
        "        \n",
        "        if g != j:\n",
        "          product *= ((X[i] - x[g]) / (x[j] - x[g]))\n",
        "\n",
        "      #add that term x the y values to the sum\n",
        "      sum += product*y[j]\n",
        "    values[i] = sum\n",
        "  return values\n",
        "      \n",
        "\n",
        "      \n",
        "my_lagrange([0,1,2],[1,3,2],[0.5,1.75,2.5,3])"
      ],
      "metadata": {
        "colab": {
          "base_uri": "https://localhost:8080/"
        },
        "id": "q69lc731btoS",
        "outputId": "f0d4396d-6f38-4e5a-d6a9-a3a1d7603aac"
      },
      "execution_count": null,
      "outputs": [
        {
          "output_type": "execute_result",
          "data": {
            "text/plain": [
              "[2.375, 2.53125, 0.375, -2.0]"
            ]
          },
          "metadata": {},
          "execution_count": 27
        }
      ]
    },
    {
      "cell_type": "markdown",
      "source": [
        "## Testing the Lagrange interpolation\n",
        "This code tests the Lagrange interpolation function written in problem 3. The experimental points can be edited, as well as the range of the plot. Experimental points are marked in red."
      ],
      "metadata": {
        "id": "1dNtBvDxuh28"
      }
    },
    {
      "cell_type": "code",
      "source": [
        "import matplotlib.pyplot as plt\n",
        "x_points = [0,1,2,5,8,10,11]\n",
        "y_points = [1,3,2,15,-4,-2,4]\n",
        "x_new = np.arange(-1.0,11,0.1)\n",
        "\n",
        "y_new = my_lagrange(x_points,y_points,x_new)\n",
        "\n",
        "plt.plot(x_new,y_new,'b',x_points,y_points,'ro')\n",
        "plt.grid()"
      ],
      "metadata": {
        "colab": {
          "base_uri": "https://localhost:8080/",
          "height": 265
        },
        "id": "RPWVlEr7rl5H",
        "outputId": "d4ddd8cd-e1ee-4893-a11d-5447fbd287d4"
      },
      "execution_count": null,
      "outputs": [
        {
          "output_type": "display_data",
          "data": {
            "image/png": "[encoded data removed]",
            "text/plain": [
              "<Figure size 432x288 with 1 Axes>"
            ]
          },
          "metadata": {
            "needs_background": "light"
          }
        }
      ]
    },
    {
      "cell_type": "markdown",
      "source": [
        "## Problem 4: Newton's Polynomial Interpolation\n",
        "Implementation of Newton interpolation. Values can be adjusted to compare to the Lagrange method."
      ],
      "metadata": {
        "id": "L9pb484BvnBj"
      }
    },
    {
      "cell_type": "code",
      "source": [
        "def divided_diff(x,y):\n",
        "  n = len(y)\n",
        "  coef = np.zeros([n,n])\n",
        "\n",
        "\n",
        "  #first column is y values\n",
        "  coef[:,0] = y\n",
        "  \n",
        "\n",
        "  for i in range(1,n):\n",
        "    for j in range(n-i):\n",
        "      \n",
        "      coef[j,i] = (coef[j+1,i-1] - coef[j,i-1]) / (x[j+i] - x[j])\n",
        "      \n",
        "  return coef\n",
        "\n",
        "#pass one number at a time\n",
        "def newton_interp(coef,x_values,x):\n",
        "\n",
        "  y = [0] * len(x)\n",
        "  for j in range(0,len(x)):\n",
        "    n = len(x_values) - 1\n",
        "    \n",
        "    sum = coef[0,n]\n",
        "    #iterate backwards through the coefficients, building the value of f(x)\n",
        "    for i in range(1,n+1):\n",
        "      sum = coef[0,n-i] + (x - x_values[n-i])*sum\n",
        "    y[j] = sum\n",
        "  return y\n",
        "\n",
        "x = [0,1,2,5,8,10]\n",
        "y = [1,3,2,15,-4,-2]\n",
        "coef = divided_diff(x,y)\n",
        "\n",
        "x_new = np.arange(-1,11,0.1)\n",
        "y_new = newton_interp(coef,x,x_new)\n",
        "plt.plot(x_new,y_new[0],'b',x,y,'ro')\n",
        "plt.grid()"
      ],
      "metadata": {
        "colab": {
          "base_uri": "https://localhost:8080/",
          "height": 265
        },
        "id": "S8bXczznv7vb",
        "outputId": "759070ae-10ba-406a-921a-cf6538139e7f"
      },
      "execution_count": null,
      "outputs": [
        {
          "output_type": "display_data",
          "data": {
            "image/png": "[encoded data removed]",
            "text/plain": [
              "<Figure size 432x288 with 1 Axes>"
            ]
          },
          "metadata": {
            "needs_background": "light"
          }
        }
      ]
    }
  ]
}