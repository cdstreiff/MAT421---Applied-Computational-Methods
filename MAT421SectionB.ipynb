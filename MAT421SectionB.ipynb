{
  "nbformat": 4,
  "nbformat_minor": 0,
  "metadata": {
    "colab": {
      "name": "MAT421SectionB.ipynb",
      "provenance": [],
      "collapsed_sections": [],
      "authorship_tag": "ABX9TyMc6VrrR2UWHNdLUMHNyK16",
      "include_colab_link": true
    },
    "kernelspec": {
      "name": "python3",
      "display_name": "Python 3"
    },
    "language_info": {
      "name": "python"
    }
  },
  "cells": [
    {
      "cell_type": "markdown",
      "metadata": {
        "id": "view-in-github",
        "colab_type": "text"
      },
      "source": [
        "<a href=\"https://colab.research.google.com/github/cdstreiff/MAT421---Applied-Computational-Methods/blob/main/MAT421SectionB.ipynb\" target=\"_parent\"><img src=\"https://colab.research.google.com/assets/colab-badge.svg\" alt=\"Open In Colab\"/></a>"
      ]
    },
    {
      "cell_type": "markdown",
      "source": [
        "# Section B HW - MAT421\n",
        "Questions based off of chapter 17 of the text."
      ],
      "metadata": {
        "id": "QExAv4AUJJ66"
      }
    },
    {
      "cell_type": "markdown",
      "source": [
        "## Problem 1: Linear Interpolation\n",
        "This code will find the linear interpolation of a supplied array, given certain experimental data points."
      ],
      "metadata": {
        "id": "ir4P5zrxdLLW"
      }
    },
    {
      "cell_type": "code",
      "execution_count": 28,
      "metadata": {
        "id": "LcD6QFPfTtDi",
        "colab": {
          "base_uri": "https://localhost:8080/"
        },
        "outputId": "8111fda5-8f50-492d-ed73-a93975346e02"
      },
      "outputs": [
        {
          "output_type": "execute_result",
          "data": {
            "text/plain": [
              "[2.0, 3.0, 2.5, 2.25]"
            ]
          },
          "metadata": {},
          "execution_count": 28
        }
      ],
      "source": [
        "def my_lin_interp(x,y,X):\n",
        "\n",
        "  Y = [0]*len(X)\n",
        "\n",
        "  #iterate through X\n",
        "  for i in range(0,len(X),1):\n",
        "    \n",
        "    #find smallest number in x that current point is larger than \n",
        "    # print(X[i])\n",
        "    j = 0\n",
        "    while x[j] < X[i]:\n",
        "      j += 1\n",
        "\n",
        "    x1 = x[j-1]\n",
        "    x2 = x[j]\n",
        "    # print(\"X value between \" + str(x1) + \" and \" + str(x2))\n",
        "    y1 = y[j-1]\n",
        "    y2 = y[j]\n",
        "    \n",
        "    answer = y1 + ( ((y2 - y1)*(X[i] - x1)) / (x2 - x1) )\n",
        "    # print(\"y value \" + str(answer))\n",
        "\n",
        "    Y[i] = answer\n",
        "  return Y\n",
        "\n",
        "my_lin_interp([0,1,2],[1,3,2],[0.5,1,1.5,1.75])\n"
      ]
    },
    {
      "cell_type": "markdown",
      "source": [
        "## Problem 2: Cubic Spline\n",
        "This program will return the cubic spline interpolation of a supplied set of points (in its domain). Again this interpolation is based on a set of provided experimental points. Here we see a graphical representation of this cubic spline (plotted in MATLAB). It is very elegant how each function gently leads into the next.\n",
        "\n",
        "\n",
        "![cubic spline.png](data:image/png;base64,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)"
      ],
      "metadata": {
        "id": "DCC57w_8TfBB"
      }
    },
    {
      "cell_type": "code",
      "source": [
        "def my_cubic_spline(x,y,X):\n",
        "\n",
        "  #number of equations\n",
        "  n = len(x)\n",
        "  dim = ((n-1)*4,(n-1)*4)\n",
        "  A = np.zeros(dim)\n",
        "  b = np.ones(4*(n-1))\n",
        "\n",
        "  #rowcount - important for keeping track of which equation we are on\n",
        "  rowcount = 0\n",
        "  \n",
        "\n",
        "\n",
        "  #build first constraint\n",
        "  dim1 = (n-1,4*(n-1))\n",
        "  A1 = np.zeros(dim1)\n",
        "\n",
        "  startpoint = 0;\n",
        "  for i in range(0,n-1,1):\n",
        "    power = 3\n",
        "    for j in range(startpoint,startpoint+4,1):\n",
        "      A1[i,j] = x[i]**power\n",
        "      power -= 1\n",
        "    startpoint += 4\n",
        "    b[i] = y[i]\n",
        "    rowcount += 1\n",
        "\n",
        "\n",
        "  #build second constraint\n",
        "  dim2 = (n-1,4*(n-1))\n",
        "  A2 = np.zeros(dim2)\n",
        "  \n",
        "  startpoint = 0;\n",
        "  for i in range(0,n-1,1):\n",
        "    power = 3\n",
        "    for j in range(startpoint,startpoint+4,1):\n",
        "      A2[i,j] = x[i+1]**power\n",
        "      power -= 1\n",
        "    startpoint += 4\n",
        "    b[i+(n-1)] = y[i+1]\n",
        "    rowcount += 1\n",
        "\n",
        "  \n",
        "\n",
        "  #third constraint\n",
        "  dim3 = (n-2,4*(n-1))\n",
        "  A3 = np.zeros(dim3)\n",
        "  \n",
        "  for i in range(0,n-2,1):\n",
        "    \n",
        "\n",
        "      A3[i,0+4*i] = 3 * (x[i+1]**2)\n",
        "      A3[i,1+4*i] = 2 * x[i+1]\n",
        "      A3[i,2+4*i] = 1\n",
        "\n",
        "      A3[i,4 + 4*i] = -3 * (x[i+1]**2)\n",
        "      A3[i,5 + 4*i] = -2 * x[i+1]\n",
        "      A3[i,6 + 4*i] = -1\n",
        "      b[rowcount] = 0\n",
        "      rowcount += 1\n",
        "  \n",
        "\n",
        "  #fourth constraint\n",
        "  dim4 = (n-2,4*(n-1))\n",
        "  A4 = np.zeros(dim4)\n",
        "  \n",
        "  \n",
        "  for i in range(0,n-2,1):\n",
        "    \n",
        "      A4[i,0+4*i] = 6 * (x[i+1])\n",
        "      A4[i,1+4*i] = 2\n",
        "\n",
        "      A4[i,4 + 4*i] = -6 * (x[i+1])\n",
        "      A4[i,5 + 4*i] = -2\n",
        "      b[rowcount] = 0\n",
        "      rowcount += 1\n",
        "\n",
        "  \n",
        "  #fifth constraint\n",
        "  dim5 = (2,4*(n-1))\n",
        "  A5 = np.zeros(dim5)\n",
        "\n",
        "  A5[0,0] = 6 * x[0]\n",
        "  A5[0,1] = 2\n",
        "  A5[1,4*(n-2)] = 6 * x[n-1]\n",
        "  A5[1,4*(n-2) + 1] = 2\n",
        "\n",
        "  b[rowcount] = 0\n",
        "  rowcount += 1\n",
        "  b[rowcount] = 0\n",
        "  rowcount += 1\n",
        "\n",
        "  #initialize final matrix representing the system of equations\n",
        "\n",
        "  dim = (len(b),len(b))\n",
        "  A = np.zeros(dim)\n",
        "\n",
        "  #concatenating all the result matrices together\n",
        "  row = 0\n",
        "  for i in range(0,len(A1),1):\n",
        "    A[i,:] = A1[i,:]\n",
        "    row += 1\n",
        "  offset = row\n",
        "  for i in range(0,len(A2),1):\n",
        "    A[i+offset,:] = A2[i,:]\n",
        "    row += 1\n",
        "  offset = row\n",
        "  for i in range(0,len(A3),1):\n",
        "    A[i+offset,:] = A3[i,:]\n",
        "    row += 1\n",
        "  offset = row\n",
        "  for i in range(0,len(A4),1):\n",
        "    A[i+offset,:] = A4[i,:]\n",
        "    row += 1\n",
        "  offset = row\n",
        "  for i in range(0,len(A5),1):\n",
        "    A[i+offset,:] = A5[i,:]\n",
        "    row += 1\n",
        "\n",
        "  \n",
        "  #solving the system of equatons using the numPy built in functions to get coefficients of our cubic equations\n",
        "\n",
        "  coef = np.dot(np.linalg.inv(A), b)\n",
        "  print(\"Coefficients: \")\n",
        "  print(coef)\n",
        "\n",
        "\n",
        "\n",
        "  #evaluating at the given points\n",
        "  Y = [0] * len(X)\n",
        "  for i in range(0,len(X),1):\n",
        "    j = 0\n",
        "    while x[j] < X[i]:\n",
        "      j += 1\n",
        "    index = j-1\n",
        "    \n",
        "    term1 = coef[4*index]\n",
        "    term2 = coef[4*index + 1]\n",
        "    term3 = coef[4*index + 2]\n",
        "    term4 = coef[4*index + 3]\n",
        "\n",
        "    \n",
        "    Y[i] = term1 * (X[i] ** 3) + term2 * (X[i]**2) + term3 * X[i] + term4\n",
        "  print(\"Interpolation:\")\n",
        "  return Y\n",
        "\n",
        "#should return points congruent with the graph\n",
        "my_cubic_spline([0,1,2,3],[1,3,2,4],[0.2,0.5,1.5,2.4,2.9])"
      ],
      "metadata": {
        "colab": {
          "base_uri": "https://localhost:8080/"
        },
        "id": "F3n_Cewldh0s",
        "outputId": "814727de-f46c-458f-eab2-d7f2dfd7150b"
      },
      "execution_count": 231,
      "outputs": [
        {
          "output_type": "stream",
          "name": "stdout",
          "text": [
            "Coefficients: \n",
            "[ -1.   0.   3.   1.   2.  -9.  12.  -2.  -1.   9. -24.  22.]\n",
            "Interpolation:\n"
          ]
        },
        {
          "output_type": "execute_result",
          "data": {
            "text/plain": [
              "[1.591999999999998,\n",
              " 2.3749999999999987,\n",
              " 2.500000000000009,\n",
              " 2.416000000000018,\n",
              " 3.701000000000029]"
            ]
          },
          "metadata": {},
          "execution_count": 231
        }
      ]
    },
    {
      "cell_type": "markdown",
      "source": [
        "## Problem 3: Lagrange Interpolation\n",
        "This program takes a set of x-values, along with some experimental coordinates, and finds the corresponding y-values calculated using Lagrange interpolation. The code works for any amount of points."
      ],
      "metadata": {
        "id": "SEHg-WZ3buZ8"
      }
    },
    {
      "cell_type": "code",
      "source": [
        "def my_lagrange(x,y,X):\n",
        "  values = [0] * len(X)\n",
        "  #for each value in the X list\n",
        "  for i in range(0,len(X),1):\n",
        "\n",
        "    #this sum represents the final lagrange polynomial\n",
        "    sum = 0\n",
        "\n",
        "\n",
        "\n",
        "    #which basis polynomial we're on\n",
        "    for j in range(0,len(x),1):\n",
        "      \n",
        "\n",
        "      product = 1\n",
        "      #evaluate terms in that basis polynomial\n",
        "      for g in range(0,len(x),1):\n",
        "        \n",
        "        if g != j:\n",
        "          product *= ((X[i] - x[g]) / (x[j] - x[g]))\n",
        "\n",
        "      #add that term x the y values to the sum\n",
        "      sum += product*y[j]\n",
        "    values[i] = sum\n",
        "  return values\n",
        "      \n",
        "\n",
        "      \n",
        "my_lagrange([0,1,2],[1,3,2],[0.5,1.75,2.5,3])"
      ],
      "metadata": {
        "colab": {
          "base_uri": "https://localhost:8080/"
        },
        "id": "q69lc731btoS",
        "outputId": "092dda8d-57b4-4093-e1b7-6a012abdbfbc"
      },
      "execution_count": 274,
      "outputs": [
        {
          "output_type": "execute_result",
          "data": {
            "text/plain": [
              "[2.375, 2.53125, 0.375, -2.0]"
            ]
          },
          "metadata": {},
          "execution_count": 274
        }
      ]
    },
    {
      "cell_type": "markdown",
      "source": [
        "## Testing the Lagrange interpolation\n",
        "This code tests the Lagrange interpolation function written in problem 3. The experimental points can be edited, as well as the range of the plot. Experimental points are marked in red."
      ],
      "metadata": {
        "id": "1dNtBvDxuh28"
      }
    },
    {
      "cell_type": "code",
      "source": [
        "import matplotlib.pyplot as plt\n",
        "x_points = [0,1,2,5,8,10]\n",
        "y_points = [1,3,2,15,-4,-2]\n",
        "x_range = np.arange(-1.0,11,0.1)\n",
        "\n",
        "y_new = my_lagrange(x_range,y_points,x_values)\n",
        "\n",
        "plt.plot(x_values,y_new,'b',x_points,y_points,'ro')\n",
        "plt.grid()"
      ],
      "metadata": {
        "colab": {
          "base_uri": "https://localhost:8080/",
          "height": 265
        },
        "id": "RPWVlEr7rl5H",
        "outputId": "43bfa3df-67c2-49e8-c558-8d2cfea2b9fb"
      },
      "execution_count": 294,
      "outputs": [
        {
          "output_type": "display_data",
          "data": {
            "image/png": "[encoded data removed]",
            "text/plain": [
              "<Figure size 432x288 with 1 Axes>"
            ]
          },
          "metadata": {
            "needs_background": "light"
          }
        }
      ]
    },
    {
      "cell_type": "markdown",
      "source": [
        "## Problem 4: Newton's Polynomial Interpolation\n",
        "Implementation of Newton interpolation. Values can be adjusted to compare to the Lagrange method."
      ],
      "metadata": {
        "id": "L9pb484BvnBj"
      }
    },
    {
      "cell_type": "code",
      "source": [
        "def divided_diff(x,y):\n",
        "  n = len(y)\n",
        "  coef = np.zeros([n,n])\n",
        "\n",
        "\n",
        "  #first column is y values\n",
        "  coef[:,0] = y\n",
        "  \n",
        "\n",
        "  for i in range(1,n):\n",
        "    for j in range(n-i):\n",
        "      \n",
        "      coef[j,i] = (coef[j+1,i-1] - coef[j,i-1]) / (x[j+i] - x[j])\n",
        "      \n",
        "  return coef\n",
        "\n",
        "#pass one number at a time\n",
        "def newton_interp(coef,x_values,x):\n",
        "\n",
        "  y = [0] * len(x)\n",
        "  for j in range(0,len(x)):\n",
        "    n = len(x_values) - 1\n",
        "    \n",
        "    sum = coef[0,n]\n",
        "    #iterate backwards through the coefficients, building the value of f(x)\n",
        "    for i in range(1,n+1):\n",
        "      sum = coef[0,n-i] + (x - x_values[n-i])*sum\n",
        "    y[j] = sum\n",
        "  return y\n",
        "\n",
        "x = [0,1,2,5,8,10]\n",
        "y = [1,3,2,15,-4,-2]\n",
        "coef = divided_diff(x,y)\n",
        "\n",
        "x_new = np.arange(-1,11,0.1)\n",
        "y_new = newton_interp(coef,x,x_new)\n",
        "plt.plot(x_new,y_new[0],'b',x,y,'ro')\n",
        "plt.grid()"
      ],
      "metadata": {
        "colab": {
          "base_uri": "https://localhost:8080/",
          "height": 278
        },
        "id": "S8bXczznv7vb",
        "outputId": "f8697520-1f0c-4fcd-86e7-4bdd39790784"
      },
      "execution_count": 369,
      "outputs": [
        {
          "output_type": "display_data",
          "data": {
            "image/png": "[encoded data removed]",
            "text/plain": [
              "<Figure size 432x288 with 1 Axes>"
            ]
          },
          "metadata": {
            "needs_background": "light"
          }
        }
      ]
    }
  ]
}